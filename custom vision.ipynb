{
 "cells": [
  {
   "cell_type": "code",
   "execution_count": 1,
   "id": "0a0864cc-3890-466c-b0b7-6275e43e26d0",
   "metadata": {},
   "outputs": [
    {
     "name": "stdout",
     "output_type": "stream",
     "text": [
      "Requirement already satisfied: azure-cognitiveservices-vision-customvision in c:\\users\\vishw\\appdata\\local\\programs\\python\\python39\\lib\\site-packages (3.1.0)\n",
      "Requirement already satisfied: azure-common~=1.1 in c:\\users\\vishw\\appdata\\local\\programs\\python\\python39\\lib\\site-packages (from azure-cognitiveservices-vision-customvision) (1.1.27)\n",
      "Requirement already satisfied: msrest>=0.5.0 in c:\\users\\vishw\\appdata\\local\\programs\\python\\python39\\lib\\site-packages (from azure-cognitiveservices-vision-customvision) (0.6.21)\n",
      "Requirement already satisfied: requests-oauthlib>=0.5.0 in c:\\users\\vishw\\appdata\\local\\programs\\python\\python39\\lib\\site-packages (from msrest>=0.5.0->azure-cognitiveservices-vision-customvision) (1.3.0)\n",
      "Requirement already satisfied: certifi>=2017.4.17 in c:\\users\\vishw\\appdata\\local\\programs\\python\\python39\\lib\\site-packages (from msrest>=0.5.0->azure-cognitiveservices-vision-customvision) (2020.6.20)\n",
      "Requirement already satisfied: isodate>=0.6.0 in c:\\users\\vishw\\appdata\\local\\programs\\python\\python39\\lib\\site-packages (from msrest>=0.5.0->azure-cognitiveservices-vision-customvision) (0.6.0)\n",
      "Requirement already satisfied: requests~=2.16 in c:\\users\\vishw\\appdata\\local\\programs\\python\\python39\\lib\\site-packages (from msrest>=0.5.0->azure-cognitiveservices-vision-customvision) (2.24.0)\n",
      "Requirement already satisfied: six in c:\\users\\vishw\\appdata\\local\\programs\\python\\python39\\lib\\site-packages (from isodate>=0.6.0->msrest>=0.5.0->azure-cognitiveservices-vision-customvision) (1.15.0)\n",
      "Requirement already satisfied: idna<3,>=2.5 in c:\\users\\vishw\\appdata\\local\\programs\\python\\python39\\lib\\site-packages (from requests~=2.16->msrest>=0.5.0->azure-cognitiveservices-vision-customvision) (2.10)\n",
      "Requirement already satisfied: urllib3!=1.25.0,!=1.25.1,<1.26,>=1.21.1 in c:\\users\\vishw\\appdata\\local\\programs\\python\\python39\\lib\\site-packages (from requests~=2.16->msrest>=0.5.0->azure-cognitiveservices-vision-customvision) (1.25.11)\n",
      "Requirement already satisfied: chardet<4,>=3.0.2 in c:\\users\\vishw\\appdata\\local\\programs\\python\\python39\\lib\\site-packages (from requests~=2.16->msrest>=0.5.0->azure-cognitiveservices-vision-customvision) (3.0.4)\n",
      "Requirement already satisfied: oauthlib>=3.0.0 in c:\\users\\vishw\\appdata\\local\\programs\\python\\python39\\lib\\site-packages (from requests-oauthlib>=0.5.0->msrest>=0.5.0->azure-cognitiveservices-vision-customvision) (3.1.1)\n"
     ]
    },
    {
     "name": "stderr",
     "output_type": "stream",
     "text": [
      "WARNING: You are using pip version 21.1.2; however, version 21.2.4 is available.\n",
      "You should consider upgrading via the 'c:\\users\\vishw\\appdata\\local\\programs\\python\\python39\\python.exe -m pip install --upgrade pip' command.\n"
     ]
    }
   ],
   "source": [
    "!pip install azure-cognitiveservices-vision-customvision"
   ]
  },
  {
   "cell_type": "code",
   "execution_count": 2,
   "id": "27b86e8d-fa47-4cd8-aeca-dbb34a77c536",
   "metadata": {},
   "outputs": [],
   "source": [
    "from azure.cognitiveservices.vision.customvision.training import CustomVisionTrainingClient\n",
    "from azure.cognitiveservices.vision.customvision.prediction import CustomVisionPredictionClient\n",
    "from azure.cognitiveservices.vision.customvision.training.models import ImageFileCreateBatch, ImageFileCreateEntry, Region\n",
    "from msrest.authentication import ApiKeyCredentials\n",
    "import os, time, uuid"
   ]
  },
  {
   "cell_type": "code",
   "execution_count": 4,
   "id": "55d9a9b5-f3f9-4309-964c-750c062cdf40",
   "metadata": {},
   "outputs": [],
   "source": [
    "# Replace with valid values\n",
    "ENDPOINT = \"https://vishioncustomvishwas.cognitiveservices.azure.com/\"\n",
    "training_key = \"3da0d6c3413b430b9608993f0173858d\"\n",
    "prediction_key = \"eaf67107470e4beca88e8a7c7aba085b\"\n",
    "prediction_resource_id = \"/subscriptions/5f00e3a3-c982-4ac3-be51-6f92f9d63623/resourceGroups/customvision/providers/Microsoft.CognitiveServices/accounts/vishioncustomvishw-Prediction\""
   ]
  },
  {
   "cell_type": "code",
   "execution_count": 5,
   "id": "94c28ff2-67d1-4c4d-9e17-777d3b5e9fb5",
   "metadata": {},
   "outputs": [],
   "source": [
    "credentials = ApiKeyCredentials(in_headers={\"Training-key\": training_key})\n",
    "trainer = CustomVisionTrainingClient(ENDPOINT, credentials)\n",
    "prediction_credentials = ApiKeyCredentials(in_headers={\"Prediction-key\": prediction_key})\n",
    "predictor = CustomVisionPredictionClient(ENDPOINT, prediction_credentials)"
   ]
  },
  {
   "cell_type": "code",
   "execution_count": 6,
   "id": "45746b87-fe07-4282-ab4d-4c0b03c1d43f",
   "metadata": {},
   "outputs": [
    {
     "name": "stdout",
     "output_type": "stream",
     "text": [
      "Creating project...\n"
     ]
    }
   ],
   "source": [
    "publish_iteration_name = \"classifyModel\"\n",
    "\n",
    "credentials = ApiKeyCredentials(in_headers={\"Training-key\": training_key})\n",
    "trainer = CustomVisionTrainingClient(ENDPOINT, credentials)\n",
    "\n",
    "# Create a new project\n",
    "print (\"Creating project...\")\n",
    "project_name = uuid.uuid4()\n",
    "project = trainer.create_project(project_name)"
   ]
  },
  {
   "cell_type": "code",
   "execution_count": 7,
   "id": "1e4769a2-04d7-449e-bd25-a2fb0c51483b",
   "metadata": {},
   "outputs": [],
   "source": [
    "# Make two tags in the new project\n",
    "hemlock_tag = trainer.create_tag(project.id, \"Hemlock\")\n",
    "cherry_tag = trainer.create_tag(project.id, \"Japanese Cherry\")"
   ]
  },
  {
   "cell_type": "code",
   "execution_count": null,
   "id": "8acd2fd2-ea8e-4e63-a53f-4cb857e3b899",
   "metadata": {},
   "outputs": [],
   "source": []
  },
  {
   "cell_type": "code",
   "execution_count": null,
   "id": "5a93665d-56b1-49a1-9263-a35abc0537f6",
   "metadata": {},
   "outputs": [],
   "source": []
  },
  {
   "cell_type": "code",
   "execution_count": null,
   "id": "d4a82c4a-de1f-4625-afc3-789c0e097af3",
   "metadata": {},
   "outputs": [],
   "source": []
  }
 ],
 "metadata": {
  "kernelspec": {
   "display_name": "Python 3",
   "language": "python",
   "name": "python3"
  },
  "language_info": {
   "codemirror_mode": {
    "name": "ipython",
    "version": 3
   },
   "file_extension": ".py",
   "mimetype": "text/x-python",
   "name": "python",
   "nbconvert_exporter": "python",
   "pygments_lexer": "ipython3",
   "version": "3.9.5"
  }
 },
 "nbformat": 4,
 "nbformat_minor": 5
}
