{
 "cells": [
  {
   "cell_type": "code",
   "execution_count": 28,
   "id": "6d5e6ba8",
   "metadata": {},
   "outputs": [
    {
     "name": "stdout",
     "output_type": "stream",
     "text": [
      " Volume in drive C has no label.\n",
      " Volume Serial Number is E84C-5597\n",
      "\n",
      " Directory of C:\\Users\\vishw\\Desktop\\newjavademo\\python\n",
      "\n",
      "08/07/2021  06:52 PM    <DIR>          .\n",
      "08/07/2021  06:52 PM    <DIR>          ..\n",
      "08/07/2021  12:45 PM    <DIR>          .ipynb_checkpoints\n",
      "08/07/2021  06:52 PM            15,499 ONNX RunTime.ipynb\n",
      "08/07/2021  12:53 PM               822 pickle_model.pkl\n",
      "08/07/2021  12:57 PM            53,338 rf_iris.onnx\n",
      "08/07/2021  12:43 PM            36,014 TextAnalytics.ipynb\n",
      "08/07/2021  12:53 PM             4,703 tuple_model.pkl\n",
      "               5 File(s)        110,376 bytes\n",
      "               3 Dir(s)  49,195,659,264 bytes free\n"
     ]
    }
   ],
   "source": [
    "!dir\n"
   ]
  },
  {
   "cell_type": "code",
   "execution_count": 1,
   "id": "9e6af64b",
   "metadata": {},
   "outputs": [],
   "source": [
    "from sklearn.linear_model import LogisticRegression\n",
    "from sklearn.datasets import load_iris\n",
    "from sklearn.model_selection import train_test_split\n",
    "\n",
    "# Load and split data\n",
    "data = load_iris()\n",
    "Xtrain, Xtest, Ytrain, Ytest = train_test_split(data.data, data.target, test_size=0.3, random_state=4)"
   ]
  },
  {
   "cell_type": "code",
   "execution_count": 2,
   "id": "bd2e60fe",
   "metadata": {},
   "outputs": [
    {
     "name": "stderr",
     "output_type": "stream",
     "text": [
      "c:\\users\\vishw\\appdata\\local\\programs\\python\\python39\\lib\\site-packages\\sklearn\\linear_model\\_logistic.py:1355: UserWarning: 'n_jobs' > 1 does not have any effect when 'solver' is set to 'liblinear'. Got 'n_jobs' = 3.\n",
      "  warnings.warn(\"'n_jobs' > 1 does not have any effect when\"\n"
     ]
    },
    {
     "data": {
      "text/plain": [
       "LogisticRegression(C=0.1, max_iter=20, n_jobs=3, solver='liblinear')"
      ]
     },
     "execution_count": 2,
     "metadata": {},
     "output_type": "execute_result"
    }
   ],
   "source": [
    "model = LogisticRegression(C=0.1, \n",
    "                           max_iter=20, \n",
    "                           fit_intercept=True, \n",
    "                           n_jobs=3, \n",
    "                           solver='liblinear')\n",
    "model.fit(Xtrain, Ytrain)"
   ]
  },
  {
   "cell_type": "code",
   "execution_count": 3,
   "id": "6f5f0afa",
   "metadata": {},
   "outputs": [
    {
     "data": {
      "text/plain": [
       "LogisticRegression(C=0.1, max_iter=20, multi_class='ovr', n_jobs=3,\n",
       "                   solver='liblinear')"
      ]
     },
     "execution_count": 3,
     "metadata": {},
     "output_type": "execute_result"
    }
   ],
   "source": [
    "LogisticRegression(C=0.1, class_weight=None, dual=False, fit_intercept=True,\n",
    "    intercept_scaling=1, max_iter=20, multi_class='ovr', n_jobs=3,\n",
    "    penalty='l2', random_state=None, solver='liblinear', tol=0.0001,\n",
    "    verbose=0, warm_start=False)"
   ]
  },
  {
   "cell_type": "code",
   "execution_count": 4,
   "id": "c85997c7",
   "metadata": {},
   "outputs": [
    {
     "name": "stdout",
     "output_type": "stream",
     "text": [
      "Test score: 91.11 %\n"
     ]
    }
   ],
   "source": [
    "import pickle\n",
    "pkl_filename = \"pickle_model.pkl\"\n",
    "with open(pkl_filename, 'wb') as file:\n",
    "    pickle.dump(model, file)\n",
    "\n",
    "# Load from file\n",
    "with open(pkl_filename, 'rb') as file:\n",
    "    pickle_model = pickle.load(file)\n",
    "    \n",
    "# Calculate the accuracy score and predict target values\n",
    "score = pickle_model.score(Xtest, Ytest)\n",
    "print(\"Test score: {0:.2f} %\".format(100 * score))\n",
    "Ypredict = pickle_model.predict(Xtest)"
   ]
  },
  {
   "cell_type": "code",
   "execution_count": 5,
   "id": "963ca2a8",
   "metadata": {},
   "outputs": [],
   "source": [
    "tuple_objects = (model, Xtrain, Ytrain, score)\n",
    "\n",
    "# Save tuple\n",
    "pickle.dump(tuple_objects, open(\"tuple_model.pkl\", 'wb'))\n",
    "\n",
    "# Restore tuple\n",
    "pickled_model, pickled_Xtrain, pickled_Ytrain, pickled_score = pickle.load(open(\"tuple_model.pkl\", 'rb'))"
   ]
  },
  {
   "cell_type": "code",
   "execution_count": 8,
   "id": "0aebfb2c",
   "metadata": {},
   "outputs": [
    {
     "data": {
      "text/plain": [
       "RandomForestClassifier()"
      ]
     },
     "execution_count": 8,
     "metadata": {},
     "output_type": "execute_result"
    }
   ],
   "source": [
    "from sklearn.datasets import load_iris\n",
    "from sklearn.model_selection import train_test_split\n",
    "from sklearn.ensemble import RandomForestClassifier\n",
    "iris = load_iris()\n",
    "X, y = iris.data, iris.target\n",
    "X_train, X_test, y_train, y_test = train_test_split(X, y)\n",
    "clr = RandomForestClassifier()\n",
    "clr.fit(X_train, y_train)"
   ]
  },
  {
   "cell_type": "code",
   "execution_count": 10,
   "id": "97272e6f",
   "metadata": {
    "scrolled": true
   },
   "outputs": [
    {
     "name": "stdout",
     "output_type": "stream",
     "text": [
      "Collecting onnx\n",
      "  Downloading onnx-1.10.1-cp39-cp39-win_amd64.whl (11.4 MB)\n",
      "Requirement already satisfied: protobuf in c:\\users\\vishw\\appdata\\local\\programs\\python\\python39\\lib\\site-packages (from onnx) (3.17.3)\n",
      "Requirement already satisfied: six in c:\\users\\vishw\\appdata\\local\\programs\\python\\python39\\lib\\site-packages (from onnx) (1.15.0)\n",
      "Requirement already satisfied: numpy>=1.16.6 in c:\\users\\vishw\\appdata\\local\\programs\\python\\python39\\lib\\site-packages (from onnx) (1.19.5)\n",
      "Requirement already satisfied: typing-extensions>=3.6.2.1 in c:\\users\\vishw\\appdata\\local\\programs\\python\\python39\\lib\\site-packages (from onnx) (3.7.4.3)\n",
      "Installing collected packages: onnx\n",
      "Successfully installed onnx-1.10.1\n"
     ]
    },
    {
     "name": "stderr",
     "output_type": "stream",
     "text": [
      "WARNING: You are using pip version 21.1.2; however, version 21.2.2 is available.\n",
      "You should consider upgrading via the 'c:\\users\\vishw\\appdata\\local\\programs\\python\\python39\\python.exe -m pip install --upgrade pip' command.\n"
     ]
    }
   ],
   "source": [
    "!pip install onnx"
   ]
  },
  {
   "cell_type": "code",
   "execution_count": 11,
   "id": "d704e86d",
   "metadata": {},
   "outputs": [
    {
     "name": "stdout",
     "output_type": "stream",
     "text": [
      "Collecting onnxruntime\n",
      "  Downloading onnxruntime-1.8.1-cp39-cp39-win_amd64.whl (4.7 MB)\n"
     ]
    },
    {
     "name": "stderr",
     "output_type": "stream",
     "text": [
      "WARNING: You are using pip version 21.1.2; however, version 21.2.2 is available.\n",
      "You should consider upgrading via the 'c:\\users\\vishw\\appdata\\local\\programs\\python\\python39\\python.exe -m pip install --upgrade pip' command.\n"
     ]
    },
    {
     "name": "stdout",
     "output_type": "stream",
     "text": [
      "Requirement already satisfied: protobuf in c:\\users\\vishw\\appdata\\local\\programs\\python\\python39\\lib\\site-packages (from onnxruntime) (3.17.3)\n",
      "Requirement already satisfied: flatbuffers in c:\\users\\vishw\\appdata\\local\\programs\\python\\python39\\lib\\site-packages (from onnxruntime) (1.12)\n",
      "Requirement already satisfied: numpy>=1.16.6 in c:\\users\\vishw\\appdata\\local\\programs\\python\\python39\\lib\\site-packages (from onnxruntime) (1.19.5)\n",
      "Requirement already satisfied: six>=1.9 in c:\\users\\vishw\\appdata\\local\\programs\\python\\python39\\lib\\site-packages (from protobuf->onnxruntime) (1.15.0)\n",
      "Installing collected packages: onnxruntime\n",
      "Successfully installed onnxruntime-1.8.1\n"
     ]
    }
   ],
   "source": [
    "!pip install onnxruntime"
   ]
  },
  {
   "cell_type": "code",
   "execution_count": 13,
   "id": "f1a8c532",
   "metadata": {},
   "outputs": [
    {
     "name": "stdout",
     "output_type": "stream",
     "text": [
      "Collecting skl2onnx\n",
      "  Downloading skl2onnx-1.9.0-py2.py3-none-any.whl (239 kB)\n",
      "Requirement already satisfied: scipy>=1.0 in c:\\users\\vishw\\appdata\\local\\programs\\python\\python39\\lib\\site-packages (from skl2onnx) (1.6.3)\n",
      "Requirement already satisfied: numpy>=1.15 in c:\\users\\vishw\\appdata\\local\\programs\\python\\python39\\lib\\site-packages (from skl2onnx) (1.19.5)\n",
      "Requirement already satisfied: onnx>=1.2.1 in c:\\users\\vishw\\appdata\\local\\programs\\python\\python39\\lib\\site-packages (from skl2onnx) (1.10.1)\n",
      "Requirement already satisfied: scikit-learn>=0.19 in c:\\users\\vishw\\appdata\\local\\programs\\python\\python39\\lib\\site-packages (from skl2onnx) (0.24.2)\n",
      "Requirement already satisfied: protobuf in c:\\users\\vishw\\appdata\\local\\programs\\python\\python39\\lib\\site-packages (from skl2onnx) (3.17.3)\n",
      "Collecting onnxconverter-common>=1.6.1\n",
      "  Downloading onnxconverter_common-1.8.1-py2.py3-none-any.whl (77 kB)\n",
      "Requirement already satisfied: typing-extensions>=3.6.2.1 in c:\\users\\vishw\\appdata\\local\\programs\\python\\python39\\lib\\site-packages (from onnx>=1.2.1->skl2onnx) (3.7.4.3)\n",
      "Requirement already satisfied: six in c:\\users\\vishw\\appdata\\local\\programs\\python\\python39\\lib\\site-packages (from onnx>=1.2.1->skl2onnx) (1.15.0)\n",
      "Requirement already satisfied: threadpoolctl>=2.0.0 in c:\\users\\vishw\\appdata\\local\\programs\\python\\python39\\lib\\site-packages (from scikit-learn>=0.19->skl2onnx) (2.1.0)\n",
      "Requirement already satisfied: joblib>=0.11 in c:\\users\\vishw\\appdata\\local\\programs\\python\\python39\\lib\\site-packages (from scikit-learn>=0.19->skl2onnx) (1.0.1)\n",
      "Installing collected packages: onnxconverter-common, skl2onnx\n",
      "Successfully installed onnxconverter-common-1.8.1 skl2onnx-1.9.0\n"
     ]
    },
    {
     "name": "stderr",
     "output_type": "stream",
     "text": [
      "WARNING: You are using pip version 21.1.2; however, version 21.2.2 is available.\n",
      "You should consider upgrading via the 'c:\\users\\vishw\\appdata\\local\\programs\\python\\python39\\python.exe -m pip install --upgrade pip' command.\n"
     ]
    }
   ],
   "source": [
    "!pip install skl2onnx"
   ]
  },
  {
   "cell_type": "code",
   "execution_count": 14,
   "id": "13ade989",
   "metadata": {},
   "outputs": [],
   "source": [
    "from skl2onnx import convert_sklearn\n",
    "from skl2onnx.common.data_types import FloatTensorType\n",
    "initial_type = [('float_input', FloatTensorType([None, 4]))]\n",
    "onx = convert_sklearn(clr, initial_types=initial_type)\n",
    "with open(\"rf_iris.onnx\", \"wb\") as f:\n",
    "    f.write(onx.SerializeToString())"
   ]
  },
  {
   "cell_type": "code",
   "execution_count": 15,
   "id": "6ad95e8b",
   "metadata": {},
   "outputs": [],
   "source": [
    "import onnxruntime as rt\n",
    "import numpy\n",
    "sess = rt.InferenceSession(\"rf_iris.onnx\")\n",
    "input_name = sess.get_inputs()[0].name\n",
    "label_name = sess.get_outputs()[0].name\n",
    "pred_onx = sess.run([label_name], {input_name: X_test.astype(numpy.float32)})[0]"
   ]
  },
  {
   "cell_type": "code",
   "execution_count": 16,
   "id": "353139ac",
   "metadata": {},
   "outputs": [
    {
     "data": {
      "text/plain": [
       "array([0, 1, 1, 0, 2, 1, 1, 0, 2, 2, 1, 1, 2, 0, 2, 0, 1, 1, 2, 1, 2, 1,\n",
       "       2, 1, 1, 0, 1, 0, 1, 0, 2, 1, 0, 1, 0, 1, 2, 0], dtype=int64)"
      ]
     },
     "execution_count": 16,
     "metadata": {},
     "output_type": "execute_result"
    }
   ],
   "source": [
    "pred_onx"
   ]
  },
  {
   "cell_type": "code",
   "execution_count": 17,
   "id": "3ba06916",
   "metadata": {},
   "outputs": [
    {
     "data": {
      "text/plain": [
       "'float_input'"
      ]
     },
     "execution_count": 17,
     "metadata": {},
     "output_type": "execute_result"
    }
   ],
   "source": [
    "input_name"
   ]
  },
  {
   "cell_type": "code",
   "execution_count": 18,
   "id": "7882f7a7",
   "metadata": {},
   "outputs": [
    {
     "data": {
      "text/plain": [
       "'output_label'"
      ]
     },
     "execution_count": 18,
     "metadata": {},
     "output_type": "execute_result"
    }
   ],
   "source": [
    "label_name"
   ]
  },
  {
   "cell_type": "code",
   "execution_count": 23,
   "id": "26edc1eb",
   "metadata": {},
   "outputs": [
    {
     "name": "stdout",
     "output_type": "stream",
     "text": [
      " Volume in drive C has no label.\n",
      " Volume Serial Number is E84C-5597\n",
      "\n",
      " Directory of C:\\Users\\vishw\\Desktop\\newjavademo\\python\n",
      "\n",
      "08/07/2021  01:03 PM    <DIR>          .\n",
      "08/07/2021  01:03 PM    <DIR>          ..\n",
      "08/07/2021  12:45 PM    <DIR>          .ipynb_checkpoints\n",
      "08/07/2021  01:03 PM            12,325 ONNX RunTime.ipynb\n",
      "08/07/2021  12:53 PM               822 pickle_model.pkl\n",
      "08/07/2021  12:57 PM            53,338 rf_iris.onnx\n",
      "08/07/2021  12:43 PM            36,014 TextAnalytics.ipynb\n",
      "08/07/2021  12:53 PM             4,703 tuple_model.pkl\n",
      "               5 File(s)        107,202 bytes\n",
      "               3 Dir(s)  48,199,233,536 bytes free\n"
     ]
    }
   ],
   "source": [
    "!dir"
   ]
  },
  {
   "cell_type": "code",
   "execution_count": 24,
   "id": "5dd5a7d1",
   "metadata": {},
   "outputs": [],
   "source": [
    "import onnxruntime as rt\n",
    "import numpy\n",
    "from onnxruntime.datasets import get_example"
   ]
  },
  {
   "cell_type": "code",
   "execution_count": 25,
   "id": "287db4fa",
   "metadata": {},
   "outputs": [],
   "source": [
    "example1 = get_example(\"sigmoid.onnx\")\n",
    "sess = rt.InferenceSession(example1)"
   ]
  },
  {
   "cell_type": "code",
   "execution_count": 26,
   "id": "8b6cae5c",
   "metadata": {},
   "outputs": [
    {
     "name": "stdout",
     "output_type": "stream",
     "text": [
      "input name x\n",
      "input shape [3, 4, 5]\n",
      "input type tensor(float)\n"
     ]
    }
   ],
   "source": [
    "input_name = sess.get_inputs()[0].name\n",
    "print(\"input name\", input_name)\n",
    "input_shape = sess.get_inputs()[0].shape\n",
    "print(\"input shape\", input_shape)\n",
    "input_type = sess.get_inputs()[0].type\n",
    "print(\"input type\", input_type)"
   ]
  },
  {
   "cell_type": "code",
   "execution_count": 27,
   "id": "2a31aade",
   "metadata": {},
   "outputs": [
    {
     "name": "stdout",
     "output_type": "stream",
     "text": [
      " Volume in drive C has no label.\n",
      " Volume Serial Number is E84C-5597\n",
      "\n",
      " Directory of C:\\Users\\vishw\\Desktop\\newjavademo\\python\n",
      "\n",
      "08/07/2021  02:11 PM    <DIR>          .\n",
      "08/07/2021  02:11 PM    <DIR>          ..\n",
      "08/07/2021  12:45 PM    <DIR>          .ipynb_checkpoints\n",
      "08/07/2021  02:11 PM            14,445 ONNX RunTime.ipynb\n",
      "08/07/2021  12:53 PM               822 pickle_model.pkl\n",
      "08/07/2021  12:57 PM            53,338 rf_iris.onnx\n",
      "08/07/2021  12:43 PM            36,014 TextAnalytics.ipynb\n",
      "08/07/2021  12:53 PM             4,703 tuple_model.pkl\n",
      "               5 File(s)        109,322 bytes\n",
      "               3 Dir(s)  49,208,692,736 bytes free\n"
     ]
    }
   ],
   "source": [
    "!dir\n"
   ]
  },
  {
   "cell_type": "code",
   "execution_count": null,
   "id": "4acf28bf",
   "metadata": {},
   "outputs": [],
   "source": []
  }
 ],
 "metadata": {
  "kernelspec": {
   "display_name": "Python 3",
   "language": "python",
   "name": "python3"
  },
  "language_info": {
   "codemirror_mode": {
    "name": "ipython",
    "version": 3
   },
   "file_extension": ".py",
   "mimetype": "text/x-python",
   "name": "python",
   "nbconvert_exporter": "python",
   "pygments_lexer": "ipython3",
   "version": "3.9.5"
  }
 },
 "nbformat": 4,
 "nbformat_minor": 5
}
